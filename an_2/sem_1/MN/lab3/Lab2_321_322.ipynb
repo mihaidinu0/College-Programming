{
 "cells": [
  {
   "cell_type": "markdown",
   "id": "f9a9e60b",
   "metadata": {},
   "source": [
    "<h1> Laborator 2</h1>\n",
    "    <h2>Rezolvarea sistemelor liniare determinate.Sisteme triunghiulare.Eliminarea gaussiană</h2>\n",
    "    \n",
    "   Cerinta: Rezolvati sistemul  Ax=b  utilizand eliminarea gausiana cu pivotare partiala(EGPP).  Matricea A are o structura speciala, si prin urmare algoritmul EGPP poate fi imbunatatit. A se consulta suportul de laborator."
   ]
  },
  {
   "cell_type": "code",
   "execution_count": 3,
   "id": "f980a7e0",
   "metadata": {},
   "outputs": [
    {
     "name": "stdout",
     "output_type": "stream",
     "text": [
      "-----------A------------\n",
      "[[ 9.  7.  6.  3.  4.  1.]\n",
      " [ 1.  1.  2.  9.  7. 10.]\n",
      " [ 0.  7. 10.  8.  7.  6.]\n",
      " [ 0.  0.  3.  9.  7.  1.]\n",
      " [ 0.  0.  0.  1.  8.  8.]\n",
      " [ 1.  3.  5.  5.  5.  1.]]\n",
      "-----------b------------\n",
      "[[-10.]\n",
      " [ -8.]\n",
      " [-10.]\n",
      " [  4.]\n",
      " [  1.]\n",
      " [  3.]]\n",
      "Solution: [[ 17.77759473]\n",
      " [-58.33278418]\n",
      " [ 48.60461285]\n",
      " [-11.2306425 ]\n",
      " [ -7.04448105]\n",
      " [  8.57331137]]\n"
     ]
    },
    {
     "ename": "NameError",
     "evalue": "name 'linearsolver' is not defined",
     "output_type": "error",
     "traceback": [
      "\u001b[1;31m---------------------------------------------------------------------------\u001b[0m",
      "\u001b[1;31mNameError\u001b[0m                                 Traceback (most recent call last)",
      "\u001b[1;32mc:\\Users\\Mihai Dinu\\Desktop\\Dimi\\Projects\\College-Programming\\an_2\\sem_1\\MN\\lab3\\Lab2_321_322.ipynb Cell 2\u001b[0m in \u001b[0;36m<cell line: 16>\u001b[1;34m()\u001b[0m\n\u001b[0;32m     <a href='vscode-notebook-cell:/c%3A/Users/Mihai%20Dinu/Desktop/Dimi/Projects/College-Programming/an_2/sem_1/MN/lab3/Lab2_321_322.ipynb#W1sZmlsZQ%3D%3D?line=13'>14</a>\u001b[0m \u001b[39mprint\u001b[39m(b)\n\u001b[0;32m     <a href='vscode-notebook-cell:/c%3A/Users/Mihai%20Dinu/Desktop/Dimi/Projects/College-Programming/an_2/sem_1/MN/lab3/Lab2_321_322.ipynb#W1sZmlsZQ%3D%3D?line=14'>15</a>\u001b[0m \u001b[39mprint\u001b[39m(\u001b[39m\"\u001b[39m\u001b[39mSolution:\u001b[39m\u001b[39m\"\u001b[39m, np\u001b[39m.\u001b[39mlinalg\u001b[39m.\u001b[39minv(A)\u001b[39m@b\u001b[39m)\n\u001b[1;32m---> <a href='vscode-notebook-cell:/c%3A/Users/Mihai%20Dinu/Desktop/Dimi/Projects/College-Programming/an_2/sem_1/MN/lab3/Lab2_321_322.ipynb#W1sZmlsZQ%3D%3D?line=15'>16</a>\u001b[0m linearsolver(A,b)\n\u001b[0;32m     <a href='vscode-notebook-cell:/c%3A/Users/Mihai%20Dinu/Desktop/Dimi/Projects/College-Programming/an_2/sem_1/MN/lab3/Lab2_321_322.ipynb#W1sZmlsZQ%3D%3D?line=17'>18</a>\u001b[0m \u001b[39m#Definiti functia EGPP (Algoritm 2.4)\u001b[39;00m\n\u001b[0;32m     <a href='vscode-notebook-cell:/c%3A/Users/Mihai%20Dinu/Desktop/Dimi/Projects/College-Programming/an_2/sem_1/MN/lab3/Lab2_321_322.ipynb#W1sZmlsZQ%3D%3D?line=18'>19</a>\u001b[0m \u001b[39m# [!]: Pentru rezolvarea sistemului Ax = b a se vedea Algoritm 2.6\u001b[39;00m\n\u001b[0;32m     <a href='vscode-notebook-cell:/c%3A/Users/Mihai%20Dinu/Desktop/Dimi/Projects/College-Programming/an_2/sem_1/MN/lab3/Lab2_321_322.ipynb#W1sZmlsZQ%3D%3D?line=19'>20</a>\u001b[0m \u001b[39mdef\u001b[39;00m \u001b[39mlinearsolver\u001b[39m(A,b):\n",
      "\u001b[1;31mNameError\u001b[0m: name 'linearsolver' is not defined"
     ]
    }
   ],
   "source": [
    "import numpy as np\n",
    "rng = np.random.default_rng(0)  #generator\n",
    "#----------- Input ---------------------------------\n",
    "n = 6  # dimensiunea matricei\n",
    "A = rng.integers(1,11, size = (n,n))\n",
    "A = np.triu(A,-1)\n",
    "A[n-1,:] = rng.integers(1,11, size = (1,n))\n",
    "A =A.astype('float')\n",
    "b =  rng.integers(-10,11, size = (n,1)).astype('float')\n",
    "#-------------------------------------------------------------\n",
    "print('-----------A------------')\n",
    "print(A)\n",
    "print('-----------b------------')\n",
    "print(b)\n",
    "print(\"Solution:\", np.linalg.inv(A)@b)\n",
    "\n",
    "\n",
    "#Definiti functia EGPP (Algoritm 2.4)\n",
    "# [!]: Pentru rezolvarea sistemului Ax = b a se vedea Algoritm 2.6\n",
    "def linearsolver(A,b):\n",
    "  n = len(A)\n",
    "  M = A\n",
    "\n",
    "  i = 0\n",
    "  for x in M:\n",
    "   x = np.append(x, b[i])\n",
    "   i += 1\n",
    "\n",
    "  for k in range(n):\n",
    "   for i in range(k,n):\n",
    "     if abs(M[i][k]) > abs(M[k][k]):\n",
    "        M[k], M[i] = M[i],M[k]\n",
    "     else:\n",
    "        pass\n",
    "\n",
    "   for j in range(k+1,n):\n",
    "       q = float(M[j][k]) / M[k][k]\n",
    "       for m in range(k, n+1):\n",
    "          M[j][m] -=  q * M[k][m]\n",
    "\n",
    "  x = [0 for i in range(n)]\n",
    "\n",
    "  x[n-1] =float(M[n-1][n])/M[n-1][n-1]\n",
    "  for i in range (n-1,-1,-1):\n",
    "    z = 0\n",
    "    for j in range(i+1,n):\n",
    "        z = z  + float(M[i][j])*x[j]\n",
    "    x[i] = float(M[i][n] - z)/M[i][i]\n",
    "  print(x)\n",
    "\n",
    "#Algoritmul UTRIS pentru rezolvarea sistemului: Ux = b\n",
    "def Utris(U,b):\n",
    "    n = U.shape[0]\n",
    "    x = np.zeros((n,1))\n",
    "    for i in range(n-1,-1, -1):\n",
    "        s = b[i]\n",
    "        for j in range(i+1,n):\n",
    "            s =s - U[i][j]*x[j]\n",
    "        x[i] = s/U[i][i]\n",
    "    return x\n",
    "\n",
    "\n",
    "linearsolver(A,b)"
   ]
  },
  {
   "cell_type": "code",
   "execution_count": 2,
   "id": "deb536d8",
   "metadata": {},
   "outputs": [
    {
     "name": "stdout",
     "output_type": "stream",
     "text": [
      "Smth\n"
     ]
    }
   ],
   "source": [
    "print(\"Smth\")"
   ]
  }
 ],
 "metadata": {
  "kernelspec": {
   "display_name": "Python 3.10.4 64-bit",
   "language": "python",
   "name": "python3"
  },
  "language_info": {
   "codemirror_mode": {
    "name": "ipython",
    "version": 3
   },
   "file_extension": ".py",
   "mimetype": "text/x-python",
   "name": "python",
   "nbconvert_exporter": "python",
   "pygments_lexer": "ipython3",
   "version": "3.10.4"
  },
  "vscode": {
   "interpreter": {
    "hash": "369f2c481f4da34e4445cda3fffd2e751bd1c4d706f27375911949ba6bb62e1c"
   }
  }
 },
 "nbformat": 4,
 "nbformat_minor": 5
}
